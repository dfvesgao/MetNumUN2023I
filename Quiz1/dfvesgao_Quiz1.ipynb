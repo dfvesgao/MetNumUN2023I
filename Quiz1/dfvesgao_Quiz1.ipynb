{
  "nbformat": 4,
  "nbformat_minor": 0,
  "metadata": {
    "colab": {
      "provenance": [],
      "authorship_tag": "ABX9TyNLaFNOQ7oUrkSC3UC2F7QD"
    },
    "kernelspec": {
      "name": "python3",
      "display_name": "Python 3"
    },
    "language_info": {
      "name": "python"
    }
  },
  "cells": [
    {
      "cell_type": "code",
      "execution_count": null,
      "metadata": {
        "id": "2bCPll9f2DDy"
      },
      "outputs": [],
      "source": [
        "#Do not change this function's name, parameters or output format. It will be used in automatic grading.\n",
        "def FizzBuzz(x):\n",
        "  if(x%3==0 and x%5!=0):\n",
        "      answer =\"Fizz!\"\n",
        "  elif(x%3!=0 and x%5==0):\n",
        "      answer =\"Buzz!\"\n",
        "  elif(x%3==0 and x%5==0):\n",
        "      answer =\"FizzBuzz!\"\n",
        "  else:\n",
        "      answer =\"...\"\n",
        "  return answer"
      ]
    },
    {
      "cell_type": "code",
      "source": [
        "#Do not change this function's name, parameters or output format. It will be used in automatic grading.\n",
        "def FizzBuzzList(n):\n",
        "    ans = []\n",
        "    for i in range(n):\n",
        "      ans.append(FizzBuzz(i+1))\n",
        "    return ans"
      ],
      "metadata": {
        "id": "oXp89jy32HiC"
      },
      "execution_count": null,
      "outputs": []
    },
    {
      "cell_type": "code",
      "source": [
        "#Do not change this function's name, parameters or output format. It will be used in automatic grading.\n",
        "\n",
        "import numpy as np\n",
        "\n",
        "def standarize(X):\n",
        "  X_standarized = ((X-X.mean())/X.std())\n",
        "  return X_standarized"
      ],
      "metadata": {
        "id": "njEV_tFL2J2s"
      },
      "execution_count": null,
      "outputs": []
    },
    {
      "cell_type": "code",
      "source": [
        "#Do not change this function's name, parameters or output format. It will be used in automatic grading.\n",
        "\n",
        "import numpy as np\n",
        "\n",
        "def main_diagonal_matrix(A):\n",
        "  D = np.diag(np.diag(A)).astype(float)\n",
        "  return D"
      ],
      "metadata": {
        "id": "ddN9liLS2Nbf"
      },
      "execution_count": null,
      "outputs": []
    }
  ]
}